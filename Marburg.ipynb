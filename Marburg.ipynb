{
 "cells": [
  {
   "cell_type": "markdown",
   "id": "08165a40",
   "metadata": {},
   "source": [
    "<h1 style=\"color:#B61919 ; text-align:center;\">Marburg</h1>"
   ]
  },
  {
   "cell_type": "markdown",
   "id": "b8a07b30",
   "metadata": {},
   "source": [
    "<h6>@author: annice</h6>\n",
    "<h6>Fall 2021</h6>\n",
    "<h6>Texas A&M University</h6>"
   ]
  },
  {
   "cell_type": "markdown",
   "id": "0446e773",
   "metadata": {},
   "source": [
    "<h1>Marburg, Germany, 1967</h1>\n",
    "<br>\n",
    "In the summer of 1967, three German lab workers fell ill with a previously unknown infection. Meanwhile a similar case was reported in Belgrade, Yugoslavia (currently Serbia). The infection eventually spread to 31 people either working in pharmaceutical labs or the spouses of the infected lab workers in three different locations in Europe; Marburg, Frankfurt and Belgrade. The illness started with muscle aches and mild fever and was later accompanied by nausea, enlarged spleens and inflammed lymph nodes. Within a week, the patients' white blood cells, platelets and clotting factors would suddenly drop and microscopic blockages were observed in their capillaries with stagnant red blood cells unable to carry oxygen to organs. As a result, their skins became red, extremely sensitive to touch and their nerves were responding with extreme pain. By the tenth day, patients were vomitting blood and by the third week, their skins were peeling off since their cells which were starving for oxygen and nutrients were dying. Doctors described patients as bleeding to death. 7 out of the 31 infected workers died of the illness but within three months, German scientists isolated and identified the infecting agent as a virus named after the city where the first case appeared \"Marburg\" virus. \n",
    "<br><br>\n",
    "\n",
    "<a href=\"https://livingitwell.net/\">\n",
    "         <img style = \"border-radius: 50%;\" alt=\"Monkey\" src=\"https://livingitwell.net/wp-content/uploads/2017/08/Marburg-Virus.jpg\" width=300\" height=\"300\">\n",
    "      </a>\n",
    "<br><br>                                                                                                  \n",
    "The virus was traced back to a species of African green monkeys transported from Uganda to three European cities where the labs were located; Marburg, Frankfurt and Belgrade. 49 out of the 99 monkeys had died in this journey. Monkeys were transported for extracting their kidney cells and culturing polio vaccine. There were no reported cases of the Marburg virus until 1976 when a twenty year old Australian draftsman and his nighteen year old girlfriend went hitchhiking in Zimbabwe. The young man fell ill and was admitted to a hospital in Johannesburg in South Africa. Soon after being admitted to the hospital one of the nurses fell ill. The young man died and a few days later his girlfriend showed symptoms of the virus. Luckily both the nurse and the young woman were treated with an anti-coagulatory agent called heparin and survived. Almost a decade later, there were two cases of the Marburg virus reported in Koltsovo, Russia during the cold war were reportedly the Soviet Union was working on Marburg virus in a biological weapons program (Note this has nothing to do with the current COVID-19 pandemic). \n",
    "<br><br>\n",
    "<a href=\"https://upload.wikimedia.org/\">\n",
    "         <img style = \"border-radius: 50%;\" alt=\"koltsovo\" src=\"https://upload.wikimedia.org/wikipedia/commons/f/f4/%D0%91%D0%B8%D0%BE%D1%82%D0%B5%D1%85%D0%BD%D0%BE%D0%BF%D0%B0%D1%80%D0%BA%2C_%D0%9A%D0%BE%D0%BB%D1%8C%D1%86%D0%BE%D0%B2%D0%BE_01.jpg\" width=300\" height=\"300\">\n",
    "      </a>\n",
    "<br><br>\n",
    "Since then there were sporadic outbreaks of the Marburg virus in the world with more than 90% fatality rate with the two notable outbreaks, one in Angola and the other in Congo, differing in the sense that the outbreak in Angola started with one person contracting a virus and transmitting it to others while different variants of the virus were identified in the Congo outbreak. \n",
    "The virus has repeatedly infected people in East Africa, particularly the coutry of Uganda, however, in August of 2021 a new case has been reported in Guinea which is located in West Africa. How did this virus get to west Africa? Is this going to be the next pandemic?! What if a variant of this virus becomes airborne?! The answer is we have no idea. \n",
    "<br><em>Source: The coming plague by Laurie Garrett</em>\n",
    "<br>\n",
    "<h1>Structure of the virus</h1>\n",
    "<br>\n",
    "Marburg virus is a filovirus and in the same family as the Ebola virus. It consists of seven structural proteins. A helical ribonucleocapsid made of a genomic RNA wrapping around a polymer of nucleoproteins is located at its center. An RNA-dependent polymerase, polymerase cofactor and a transcriptionn activator are associated with the ribonucleoprotein. The ribonucleoprotein is located in a matrix consisting of the minor and major matrix proteins. All of these particles are surrounded by a lipid membrane which anchors a glycoprotein.\n",
    "<br><br>\n",
    "\n",
    "<a href=\"http://2.bp.blogspot.com/\">\n",
    "         <img style = \"border-radius: 5%;\" alt=\"koltsovo\" src=\"http://2.bp.blogspot.com/-pyL4iqTKla4/ULzzeP9KyyI/AAAAAAAAOWE/WZO2LZLmNiY/s1600/Filovirus_virion.jpg\" width=500\" height=\"500\">\n",
    "      </a>\n",
    "\n",
    "In this example, we take a look at the nucleotide sequence of the Marburg virus, and compare it to the latest Ebola virus to see how structurally similar they are in sequence and structure. The fasta files provided in the directory are nucleotide sequences of the Ebola virus and the only complete sequence of the Marburg virus available on NCBI. To download the files yourself or download the sequence of other viruses head over to the <a href=\"https://www.ncbi.nlm.nih.gov/labs/virus/vssi/#/virus?SeqType_s=Nucleotide&VirusLineage_ss=Ebolavirus,%20taxid:186536\">virus section of the NCBI website</a>\n",
    "<br>The sequences we look at in this example are id DQ447653 for the marburg virus and MT583341 for the Ebolavirus downloaded from the NCBI\n"
   ]
  },
  {
   "cell_type": "markdown",
   "id": "3bd45f31",
   "metadata": {},
   "source": [
    "<h2>Section I: On Strings</h2><br>\n",
    "First let's take a look at the Marburg virus and Ebola virus sequences."
   ]
  },
  {
   "cell_type": "code",
   "execution_count": 1,
   "id": "d9f4f310",
   "metadata": {},
   "outputs": [],
   "source": [
    "#Load the file\n",
    "file_name = \"C:/Users/annic/Downloads/marburg-2006-nt.fasta\"\n",
    "with open(file_name, 'r') as file:\n",
    "  #next(file)\n",
    "  seq_marburg = file.read().replace('\\n', '')"
   ]
  },
  {
   "cell_type": "code",
   "execution_count": 2,
   "id": "f9ea0494",
   "metadata": {},
   "outputs": [
    {
     "data": {
      "text/plain": [
       "'>DQ447653.1 |Lake Victoria marburgvirus - Angola2005 strain Ang1379c, complete genomeAGACACACAAAAACAAGAGATGATGATTTTGTGTATCATATAAATAAAGAAGAATATTAACATTGACATTGAGACTTGTCAGTCTGTTAATATTCTTGAAGAGATGGATTTACATAGTTTGTTAGAATTGGGTACAAAACCTACTGCTCCTCATGTTCGTAATAAGAAGGTGATATTATTCGACACAAATCATCAGGTTAGTATCTGTAATCAGATAATAGATGCAATAAACTCAGGGATTGATCTTGGAGATCTTCTAGAAGGGGGTTTGCTGACGTTGTGTGTTGAACACTACTATAATTCCGACAAAGATAA'"
      ]
     },
     "execution_count": 2,
     "metadata": {},
     "output_type": "execute_result"
    }
   ],
   "source": [
    "#Let's take a look at what is inside the file\n",
    "seq_marburg[0:400]\n"
   ]
  },
  {
   "cell_type": "code",
   "execution_count": 3,
   "id": "2e5cd3b7",
   "metadata": {
    "scrolled": true
   },
   "outputs": [
    {
     "data": {
      "text/plain": [
       "'AGACACACAAAAACAAGAGATGATGATTTTGTGTATCATATAAATAAAGAAGAATATTAACATTGACATTGAGACTTGTCAGTCTGTTAATATTCTTGAAGAGATGGATTTACATAGTTTGTTAGAATTGGGTACAAAACCTACTGCTCCTCATGTTCGTAATAAGAAGGTGATATTATTCGACACAAATCATCAGGTTAGTATCTGTAATCAGATAATAGATGCAATAAACTCAGGGATTGATCTTGGAGATCTTCTAGAAGGGGGTTTGCTGACGTTGTGTGTTGAACACTACTATAATTCCGACAAAGATAAATTCAACACAAGTCCTATCGCAAAATACTTGCGTGATGCGGGTTATGAATTTGATGTCATCAAGAATGCAGATGCAACCCGCTTT'"
      ]
     },
     "execution_count": 3,
     "metadata": {},
     "output_type": "execute_result"
    }
   ],
   "source": [
    "#Step1 : get rid of the information coming before the sequence\n",
    "#Solution: The sequence comes after the 'genome' word, therefore we can find the index of 'genome'\n",
    "#and extract what comes after it.\n",
    "e_index = seq_marburg.index(\"genome\") + len(\"genome\")\n",
    "seq_marburg = seq_marburg[e_index:]\n",
    "seq_marburg[0:400]"
   ]
  },
  {
   "cell_type": "markdown",
   "id": "5c83a857",
   "metadata": {},
   "source": [
    "# Compositional Biases in Viruses"
   ]
  },
  {
   "cell_type": "code",
   "execution_count": 4,
   "id": "6392f368",
   "metadata": {
    "scrolled": false
   },
   "outputs": [
    {
     "name": "stdout",
     "output_type": "stream",
     "text": [
      "sequence composition of the marburg virus is as follows: \n",
      "A:32.25975386226761%\n",
      "C:19.711966483372613%\n",
      "G:18.690756742602776%\n",
      "T:29.337522911757002%\n"
     ]
    }
   ],
   "source": [
    "#Step 2: Let's look at the nucleotide composition of the sequence\n",
    "#Find the ATG codon\n",
    "start_index = seq_marburg.index(\"ATG\")\n",
    "#Retrieve the sequence coming after it\n",
    "seq_marburg = seq_marburg[start_index:]\n",
    "#calculate percentages\n",
    "perc_A = seq_marburg.count(\"A\")/len(seq_marburg)*100\n",
    "perc_T = seq_marburg.count(\"T\")/len(seq_marburg)*100\n",
    "perc_C = seq_marburg.count(\"C\")/len(seq_marburg)*100\n",
    "perc_G = seq_marburg.count(\"G\")/len(seq_marburg)*100\n",
    "\n",
    "print(f\"sequence composition of the marburg virus is as follows: \\nA:{perc_A}%\\nC:{perc_C}%\\nG:{perc_G}%\\nT:{perc_T}%\")"
   ]
  },
  {
   "cell_type": "markdown",
   "id": "875f06f9",
   "metadata": {},
   "source": [
    "The vast majority of viruses have a bias towards A nucleotides and have lower number of C nucleotides. A is a weak RNA binder thus more A nucleotides result in less secondary RNA structure which assist viruses in dodging the host's defense mechanism and there is translational selection towards certain codons which casues this bias in the sequence. There is typically a selection towards amino acids with A nucleotides"
   ]
  },
  {
   "cell_type": "markdown",
   "id": "5273b37c",
   "metadata": {},
   "source": [
    "# PAUSE\n",
    "<br>\n",
    "Follow the same steps with the ebola virus <br>\n",
    "step 1: Open the file containing the ebola sequence <br>\n",
    "step 2: Remove the information given before the sequence <br>\n",
    "step 3: Find the Start Codon. Separate what comes after it and determine the nucleotide composition of the sequence\n",
    "<br><br>"
   ]
  },
  {
   "cell_type": "code",
   "execution_count": 5,
   "id": "dec37414",
   "metadata": {},
   "outputs": [],
   "source": [
    "#Fill Here\n",
    "#Load the file\n",
    "file_name = \"C:/Users/annic/Downloads/ebola-1995-nt.fasta\"\n",
    "with open(file_name, 'r') as file:\n",
    "  #next(file)\n",
    "  seq_marburg = file.read().replace('\\n', '')"
   ]
  },
  {
   "cell_type": "markdown",
   "id": "55ba8748",
   "metadata": {},
   "source": [
    "# Solution"
   ]
  },
  {
   "cell_type": "code",
   "execution_count": 6,
   "id": "65d18260",
   "metadata": {},
   "outputs": [
    {
     "name": "stdout",
     "output_type": "stream",
     "text": [
      "sequence composition of the ebola virus is as follows: \n",
      "A:32.02984442798179%\n",
      "C:21.414964546512856%\n",
      "G:19.806328712033018%\n",
      "T:27.034606836702295%\n"
     ]
    }
   ],
   "source": [
    "#Load the file\n",
    "\n",
    "\n",
    "file_name = \"C:/Users/annic/Downloads/ebola-1995-nt.fasta\"\n",
    "with open(file_name, 'r') as file:\n",
    "  #next(file)\n",
    "  seq_ebola = file.read().replace('\\n', '')\n",
    "    \n",
    "e_index = seq_ebola.index(\"genome\") + len(\"genome\")\n",
    "seq_2 = seq_ebola[e_index:]\n",
    "\n",
    "#Find the ATG codon\n",
    "start_index = seq_ebola.index(\"ATG\")\n",
    "#Retrieve the sequence coming after it\n",
    "seq_2 = seq_ebola[start_index:]\n",
    "\n",
    "perc_A = seq_ebola.count(\"A\")/len(seq_2)*100\n",
    "perc_T = seq_ebola.count(\"T\")/len(seq_2)*100\n",
    "perc_C = seq_ebola.count(\"C\")/len(seq_2)*100\n",
    "perc_G = seq_ebola.count(\"G\")/len(seq_2)*100\n",
    "\n",
    "print(f\"sequence composition of the ebola virus is as follows: \\nA:{perc_A}%\\nC:{perc_C}%\\nG:{perc_G}%\\nT:{perc_T}%\")  \n",
    "    "
   ]
  },
  {
   "cell_type": "markdown",
   "id": "1ebb873c",
   "metadata": {},
   "source": [
    "--------------------------------------------------------------------------------------------------\n",
    "<h2>Section II: For Loops Example</h2><br>"
   ]
  },
  {
   "cell_type": "markdown",
   "id": "f9a028c5",
   "metadata": {},
   "source": [
    "<h2>Needleman Wunsch Alignment</h2>\n",
    "<p>Read <a href=\"https://en.wikipedia.org/wiki/Needleman%E2%80%93Wunsch_algorithm\">this wikipedia page</a> about the Needleman-Wunsch algorithm. The Needleman Wunsch algorithm finds the best global alignment of the two sequences (The one that gives the most match between nucleotides.)\n",
    "<a href=\"https://upload.wikimedia.org/\"> <img style = \"border-radius: 5%;\" alt=\"koltsovo\" src=\"https://upload.wikimedia.org/wikipedia/commons/3/3f/Needleman-Wunsch_pairwise_sequence_alignment.png\" width=500\" height=\"500\"></a>       \n",
    "</p>\n",
    "These are the steps you have to take to align two sequences using the Needleman Wunsch algorithm. \n",
    "<ul>\n",
    "    <li><strong>I. </strong> Write one of the sequences horizontally then write the other sequence vertically and create a table.</li>\n",
    "    <li><strong>II. </strong> Starting from top to bottom and left to right, write 0 in the first cell and subtract 1 from the previous cell (either the one on top for the first column cells or one on the left for the first row) for every subsequent cell.</li>\n",
    "    <li><strong>III. </strong> From the top left corner moving to the bottom right cell, we either move vertically or horizontally and subtract 1(Gap) or move diagonally and based on whether we reach a match or mismatch add or subtract 1.</li>\n",
    "    <li><strong>IV (Trace Back). </strong> Starting from the bottom right, we move towards the top left such that the sum of the scores of the cells that we touch are maximized.</li>\n",
    "</ul>"
   ]
  },
  {
   "cell_type": "markdown",
   "id": "26a538f5",
   "metadata": {},
   "source": [
    "# PAUSE"
   ]
  },
  {
   "cell_type": "code",
   "execution_count": 7,
   "id": "81beeb1d",
   "metadata": {},
   "outputs": [],
   "source": [
    "# PAUSE: Try to write the Needleman-Wunsch algorithm yourself below\n",
    "#test with GCATGCTT and GATTACAA, the answer should be 0."
   ]
  },
  {
   "cell_type": "markdown",
   "id": "3a85cd4c",
   "metadata": {},
   "source": [
    "# Solution"
   ]
  },
  {
   "cell_type": "code",
   "execution_count": 8,
   "id": "675aff82",
   "metadata": {},
   "outputs": [],
   "source": [
    "#step 1:\n",
    "seq_1 = \"GCATGCTT\"\n",
    "seq_2 = \"GATTACAAA\"\n",
    "ROWS = len(seq_1) + 1\n",
    "COLS = len(seq_2) + 1\n",
    "\n",
    "nw_matrix = [[0 for i in range(COLS)] for j in range(ROWS)] "
   ]
  },
  {
   "cell_type": "code",
   "execution_count": 9,
   "id": "8b873ee7",
   "metadata": {},
   "outputs": [
    {
     "data": {
      "text/plain": [
       "[[0, 0, 0, 0, 0, 0, 0, 0, 0, 0],\n",
       " [0, 0, 0, 0, 0, 0, 0, 0, 0, 0],\n",
       " [0, 0, 0, 0, 0, 0, 0, 0, 0, 0],\n",
       " [0, 0, 0, 0, 0, 0, 0, 0, 0, 0],\n",
       " [0, 0, 0, 0, 0, 0, 0, 0, 0, 0],\n",
       " [0, 0, 0, 0, 0, 0, 0, 0, 0, 0],\n",
       " [0, 0, 0, 0, 0, 0, 0, 0, 0, 0],\n",
       " [0, 0, 0, 0, 0, 0, 0, 0, 0, 0],\n",
       " [0, 0, 0, 0, 0, 0, 0, 0, 0, 0]]"
      ]
     },
     "execution_count": 9,
     "metadata": {},
     "output_type": "execute_result"
    }
   ],
   "source": [
    "nw_matrix"
   ]
  },
  {
   "cell_type": "code",
   "execution_count": 228,
   "id": "4ffdcf6d",
   "metadata": {},
   "outputs": [],
   "source": [
    "#step 2:\n",
    "for i in range(0, ROWS):\n",
    "    nw_matrix[i][0] = i*-1\n",
    "for j in range(0, COLS):\n",
    "    nw_matrix[0][j] = j*-1 "
   ]
  },
  {
   "cell_type": "code",
   "execution_count": 229,
   "id": "222562d0",
   "metadata": {},
   "outputs": [],
   "source": [
    "for i in range(1, ROWS):\n",
    "    for j in range(1, COLS):\n",
    "        score = -1\n",
    "        \n",
    "        if seq_1[i-1] == seq_2[j-1]:\n",
    "            score =1\n",
    "            \n",
    "        nw_matrix[i][j] = max(nw_matrix[i-1][j] - 1, max(nw_matrix[i][j-1] -1, nw_matrix[i-1][j-1] + score))"
   ]
  },
  {
   "cell_type": "code",
   "execution_count": 230,
   "id": "e5b5db7d",
   "metadata": {
    "scrolled": true
   },
   "outputs": [
    {
     "name": "stdout",
     "output_type": "stream",
     "text": [
      "0  -1  -2  -3  -4  -5  -6  -7  -8  -9  \n",
      "\n",
      "-1  1  0  -1  -2  -3  -4  -5  -6  -7  \n",
      "\n",
      "-2  0  0  -1  -2  -3  -2  -3  -4  -5  \n",
      "\n",
      "-3  -1  1  0  -1  -1  -2  -1  -2  -3  \n",
      "\n",
      "-4  -2  0  2  1  0  -1  -2  -2  -3  \n",
      "\n",
      "-5  -3  -1  1  1  0  -1  -2  -3  -3  \n",
      "\n",
      "-6  -4  -2  0  0  0  1  0  -1  -2  \n",
      "\n",
      "-7  -5  -3  -1  1  0  0  0  -1  -2  \n",
      "\n",
      "-8  -6  -4  -2  0  0  -1  -1  -1  -2  \n",
      "\n"
     ]
    }
   ],
   "source": [
    "for i in range(0, ROWS):\n",
    "    for j in range(0, COLS):\n",
    "        print(nw_matrix[i][j], end=\"  \")\n",
    "    print(\"\\n\")"
   ]
  },
  {
   "cell_type": "code",
   "execution_count": 231,
   "id": "323a9c0b",
   "metadata": {},
   "outputs": [],
   "source": [
    "nw_trace1 = seq_1\n",
    "nw_trace2 = seq_2\n",
    "\n",
    "nw_score = 0\n",
    "\n",
    "nw_i = len(seq_1)\n",
    "nw_j = len(seq_2)\n",
    "\n",
    "while nw_i>0 and nw_j>0:\n",
    "    if nw_matrix[nw_i][nw_j] == ((nw_matrix[nw_i - 1][nw_j]) - 1):\n",
    "        nw_i = nw_i - 1\n",
    "        nw_score -= 1\n",
    "        nw_trace2 = nw_trace2[:nw_i] + \"-\" + nw_trace2[nw_i:] \n",
    "    elif nw_matrix[nw_i][nw_j] == (nw_matrix[nw_i][nw_j - 1] - 1):\n",
    "        nw_j = nw_j - 1\n",
    "        nw_score -= 1\n",
    "        nw_trace1 = nw_trace1[:nw_j] + \"-\" + nw_trace1[nw_j:] \n",
    "    else:\n",
    "        \n",
    "        if seq_1[nw_i - 1] == seq_2[nw_j - 1]:\n",
    "            nw_score += 1\n",
    "        else:\n",
    "            nw_score -= 1\n",
    "        nw_i = nw_i - 1\n",
    "        nw_j = nw_j - 1"
   ]
  },
  {
   "cell_type": "code",
   "execution_count": 232,
   "id": "6eaafe56",
   "metadata": {},
   "outputs": [
    {
     "name": "stdout",
     "output_type": "stream",
     "text": [
      "The NW alignment score is -2 and the alignment is \n",
      "GCAT-GCTT-\n",
      "G-ATTACAAA\n"
     ]
    }
   ],
   "source": [
    "print(f\"The NW alignment score is {nw_score} and the alignment is \\n{nw_trace1}\\n{nw_trace2}\")"
   ]
  },
  {
   "cell_type": "markdown",
   "id": "192d5a4a",
   "metadata": {},
   "source": [
    "# Pairwise Alignment of Ebola and Marburg"
   ]
  },
  {
   "cell_type": "code",
   "execution_count": 10,
   "id": "8d1a460a",
   "metadata": {},
   "outputs": [],
   "source": [
    "#step 1:\n",
    "seq_1 = seq_marburg\n",
    "seq_2 = seq_ebola\n",
    "ROWS = len(seq_1) + 1\n",
    "COLS = len(seq_2) + 1\n",
    "\n",
    "nw_matrix = [[0 for i in range(COLS)] for j in range(ROWS)] \n",
    "#step 2:\n",
    "for i in range(0, ROWS):\n",
    "    nw_matrix[i][0] = i*-1\n",
    "for j in range(0, COLS):\n",
    "    nw_matrix[0][j] = j*-1 \n",
    "for i in range(1, ROWS):\n",
    "    for j in range(1, COLS):\n",
    "        score = -1\n",
    "        \n",
    "        if seq_1[i-1] == seq_2[j-1]:\n",
    "            score =1\n",
    "            \n",
    "        nw_matrix[i][j] = max(nw_matrix[i-1][j] - 1, max(nw_matrix[i][j-1] -1, nw_matrix[i-1][j-1] + score))\n",
    "        \n",
    "nw_trace1 = seq_1\n",
    "nw_trace2 = seq_2\n",
    "\n",
    "nw_score = 0\n",
    "\n",
    "nw_i = len(seq_1)\n",
    "nw_j = len(seq_2)\n",
    "\n",
    "while nw_i>0 and nw_j>0:\n",
    "    if nw_matrix[nw_i][nw_j] == ((nw_matrix[nw_i - 1][nw_j]) - 1):\n",
    "        nw_i = nw_i - 1\n",
    "        nw_score -= 1\n",
    "        nw_trace2 = nw_trace2[:nw_i] + \"-\" + nw_trace2[nw_i:] \n",
    "    elif nw_matrix[nw_i][nw_j] == (nw_matrix[nw_i][nw_j - 1] - 1):\n",
    "        nw_j = nw_j - 1\n",
    "        nw_score -= 1\n",
    "        nw_trace1 = nw_trace1[:nw_j] + \"-\" + nw_trace1[nw_j:] \n",
    "    else:\n",
    "        \n",
    "        if seq_1[nw_i - 1] == seq_2[nw_j - 1]:\n",
    "            nw_score += 1\n",
    "        else:\n",
    "            nw_score -= 1\n",
    "        nw_i = nw_i - 1\n",
    "        nw_j = nw_j - 1"
   ]
  },
  {
   "cell_type": "code",
   "execution_count": 11,
   "id": "4054d5c3",
   "metadata": {},
   "outputs": [
    {
     "ename": "IndexError",
     "evalue": "list index out of range",
     "output_type": "error",
     "traceback": [
      "\u001b[1;31m---------------------------------------------------------------------------\u001b[0m",
      "\u001b[1;31mIndexError\u001b[0m                                Traceback (most recent call last)",
      "\u001b[1;32m<ipython-input-11-f7dab11ec364>\u001b[0m in \u001b[0;36m<module>\u001b[1;34m\u001b[0m\n\u001b[1;32m----> 1\u001b[1;33m \u001b[0mnw_matrix\u001b[0m\u001b[1;33m[\u001b[0m\u001b[0mROWS\u001b[0m\u001b[1;33m]\u001b[0m\u001b[1;33m[\u001b[0m\u001b[1;36m0\u001b[0m\u001b[1;33m]\u001b[0m\u001b[1;33m\u001b[0m\u001b[1;33m\u001b[0m\u001b[0m\n\u001b[0m",
      "\u001b[1;31mIndexError\u001b[0m: list index out of range"
     ]
    }
   ],
   "source": [
    "nw_matrix[ROWS][0]"
   ]
  },
  {
   "cell_type": "code",
   "execution_count": 5,
   "id": "c9d0b2b4",
   "metadata": {},
   "outputs": [
    {
     "name": "stdout",
     "output_type": "stream",
     "text": [
      "RecordABA87124.1 , length695\n",
      "RecordABA87125.1 , length329\n",
      "RecordABA87126.1 , length303\n",
      "RecordABA87127.1 , length681\n",
      "RecordABA87128.1 , length281\n",
      "RecordABA87129.1 , length253\n",
      "RecordABA87130.1 , length2331\n"
     ]
    }
   ],
   "source": [
    "file_name = \"C:/Users/annic/Downloads/2005-marburg-protein.fasta\"\n",
    "count = 0\n",
    "for record in SeqIO.parse(file_name, \"fasta\"):\n",
    "    print(\"Record\" + record.id + \" , length\" + str(len(record.seq)))"
   ]
  },
  {
   "cell_type": "code",
   "execution_count": 4,
   "id": "b4799031",
   "metadata": {},
   "outputs": [
    {
     "data": {
      "text/plain": [
       "7"
      ]
     },
     "execution_count": 4,
     "metadata": {},
     "output_type": "execute_result"
    }
   ],
   "source": [
    "count"
   ]
  },
  {
   "cell_type": "code",
   "execution_count": 10,
   "id": "5e8dce7f",
   "metadata": {},
   "outputs": [],
   "source": [
    "for record in SeqIO.parse(file_name, \"fasta\"):\n",
    "    if not record.seq.startswith(\"M\"):\n",
    "        bad = bad + 1\n",
    "        print(record.id + \" starts \" + record.seq[0])"
   ]
  },
  {
   "cell_type": "code",
   "execution_count": 9,
   "id": "4155a966",
   "metadata": {},
   "outputs": [
    {
     "name": "stdout",
     "output_type": "stream",
     "text": [
      "RecordCAA78114.1 , length692\n",
      "RecordCAA78115.1 , length329\n",
      "RecordCAA78116.1 , length303\n",
      "RecordCAA78117.1 , length681\n",
      "RecordCAA78118.1 , length277\n",
      "RecordCAA78119.1 , length253\n",
      "RecordCAA78120.1 , length2331\n"
     ]
    }
   ],
   "source": [
    "file_name = \"C:/Users/annic/Downloads/1992-marburg-protein.fasta\"\n",
    "count = 0\n",
    "for record in SeqIO.parse(file_name, \"fasta\"):\n",
    "    print(\"Record\" + record.id + \" , length\" + str(len(record.seq)))"
   ]
  },
  {
   "cell_type": "code",
   "execution_count": 11,
   "id": "2ae7b48b",
   "metadata": {},
   "outputs": [
    {
     "name": "stdout",
     "output_type": "stream",
     "text": [
      "RecordQYU59289.1 , length739\n",
      "RecordQYU59290.1 , length340\n",
      "RecordQYU59291.1 , length326\n",
      "RecordQYU59292.1 , length676\n",
      "RecordQYU59293.1 , length364\n",
      "RecordQYU59294.1 , length297\n",
      "RecordQYU59295.1 , length288\n",
      "RecordQYU59296.1 , length251\n",
      "RecordQYU59297.1 , length2212\n"
     ]
    }
   ],
   "source": [
    "file_name = \"C:/Users/annic/Downloads/2021-ebola-protein.fasta\"\n",
    "count = 0\n",
    "for record in SeqIO.parse(file_name, \"fasta\"):\n",
    "    print(\"Record\" + record.id + \" , length\" + str(len(record.seq)))"
   ]
  },
  {
   "cell_type": "markdown",
   "id": "742506e0",
   "metadata": {},
   "source": [
    "NEEDLEMAN WUNSCH ALIGNMENT"
   ]
  },
  {
   "cell_type": "code",
   "execution_count": 30,
   "id": "d909326a",
   "metadata": {},
   "outputs": [
    {
     "data": {
      "text/plain": [
       "19111"
      ]
     },
     "execution_count": 30,
     "metadata": {},
     "output_type": "execute_result"
    }
   ],
   "source": [
    "file_name = \"C:/Users/annic/Downloads/sequence_1.txt\"\n",
    "with open(file_name, 'r') as file:\n",
    "  next(file)\n",
    "  seq_1 = file.read().replace('\\n', '')\n",
    "seq_2 = seq_1\n",
    "len(data)"
   ]
  },
  {
   "cell_type": "code",
   "execution_count": 51,
   "id": "3f60aff9",
   "metadata": {},
   "outputs": [],
   "source": [
    "ROWS = len(data) + 1\n",
    "COLS = len(data) + 1"
   ]
  },
  {
   "cell_type": "code",
   "execution_count": 53,
   "id": "e2914e39",
   "metadata": {},
   "outputs": [],
   "source": [
    "nw_matrix = [ [0 for i in range(ROWS)]] * COLS"
   ]
  },
  {
   "cell_type": "code",
   "execution_count": 54,
   "id": "4134c433",
   "metadata": {},
   "outputs": [],
   "source": [
    "for i in range(0, ROWS):\n",
    "    nw_matrix[i][0] = i*-2"
   ]
  },
  {
   "cell_type": "code",
   "execution_count": 55,
   "id": "13488be6",
   "metadata": {},
   "outputs": [],
   "source": [
    "for j in range(0, COLS):\n",
    "    nw_matrix[0][j] = j*-2"
   ]
  },
  {
   "cell_type": "code",
   "execution_count": 56,
   "id": "834f1629",
   "metadata": {},
   "outputs": [],
   "source": [
    "for i in range(1, ROWS):\n",
    "    for j in range(1, COLS):\n",
    "        score = -1\n",
    "        \n",
    "        if seq_1[i-1] == seq_2[j-1]:\n",
    "            score =1\n",
    "            \n",
    "        nw_matrix[i][j] = max(nw_matrix[i-1][j] - 2, max(nw_matrix[i][j-1] -2, nw_matrix[i-1][j-1] + score))"
   ]
  },
  {
   "cell_type": "code",
   "execution_count": 57,
   "id": "627c52be",
   "metadata": {},
   "outputs": [],
   "source": [
    "nw_trace1 = seq_1\n",
    "nw_trace2 = seq_2\n",
    "\n",
    "nw_score = 0\n",
    "\n",
    "nw_i = len(seq_1)\n",
    "nw_j = len(seq_2)\n",
    "\n",
    "while not nw_i==0 and not nw_j==0:\n",
    "    if nw_matrix[nw_i][nw_j] == ((nw_matrix[nw_i - 1][nw_j]) - 2):\n",
    "        nw_i = nw_i - 1\n",
    "        nw_score -= 2\n",
    "        nw_trace2.insert(nw_i, \"-\")\n",
    "    elif nw_matrix[nw_i][nw_j] == (nw_matrix[nw_i][nw_j - 1] - 2):\n",
    "        nw_score -= 2\n",
    "    else:\n",
    "        \n",
    "        if seq_1[nw_i - 1] == seq_2[nw_j - 1]:\n",
    "            nw_score += 1\n",
    "        else:\n",
    "            nw_score -= 1\n",
    "        nw_i = nw_i - 1\n",
    "        nw_j = nw_j - 1"
   ]
  }
 ],
 "metadata": {
  "kernelspec": {
   "display_name": "Python 3",
   "language": "python",
   "name": "python3"
  },
  "language_info": {
   "codemirror_mode": {
    "name": "ipython",
    "version": 3
   },
   "file_extension": ".py",
   "mimetype": "text/x-python",
   "name": "python",
   "nbconvert_exporter": "python",
   "pygments_lexer": "ipython3",
   "version": "3.8.8"
  }
 },
 "nbformat": 4,
 "nbformat_minor": 5
}
