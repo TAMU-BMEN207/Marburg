{
 "cells": [
  {
   "cell_type": "markdown",
   "id": "08165a40",
   "metadata": {},
   "source": [
    "<h1 style=\"color:#B61919 ; text-align:center;\">Marburg</h1>"
   ]
  },
  {
   "cell_type": "markdown",
   "id": "b8a07b30",
   "metadata": {},
   "source": [
    "<h6>@author: annice</h6>\n",
    "<h6>Fall 2021</h6>\n",
    "<h6>Texas A&M University</h6>"
   ]
  },
  {
   "cell_type": "markdown",
   "id": "0446e773",
   "metadata": {},
   "source": [
    "<h1>Marburg, Germany, 1967</h1>\n",
    "<br>\n",
    "In the summer of 1967, three German lab workers fell ill with a previously unknown infection. Meanwhile, a similar case was reported in Belgrade, Yugoslavia (currently Serbia). The infection eventually spread to 31 people either working in pharmaceutical labs or the spouses of the infected lab workers in three different locations in Europe; Marburg, Frankfurt, and Belgrade. The illness started with muscle aches and mild fever and was later accompanied by nausea, enlarged spleens, and inflamed lymph nodes. Within a week, the patients' white blood cells, platelets, and clotting factors would suddenly drop, and microscopic blockages were observed in their capillaries with stagnant red blood cells unable to carry oxygen to organs. As a result, their skins became red, extremely sensitive to touch, and their nerves were responding with extreme pain. By the tenth day, patients were vomiting blood, and by the third week, their skins were peeling off as their cells which were starving for oxygen and nutrients, were dying. Doctors described patients as bleeding to death. Eventually, 7 out of the 31 infected workers died of the illness, but within three months, German scientists isolated and identified the infecting agent as a virus named after the city where the first case appeared \"Marburg\" virus (Garrett, 1995). \n",
    "<br><br>\n",
    "\n",
    "<a href=\"https://livingitwell.net/\">\n",
    "         <img style = \"border-radius: 50%;\" alt=\"Monkey\" src=\"https://livingitwell.net/wp-content/uploads/2017/08/Marburg-Virus.jpg\" width=300\" height=\"300\">\n",
    "      </a>\n",
    "<br><br>                                                                                                  \n",
    "The virus was traced back to a species of African green monkeys transported from Uganda to three European cities where the labs were located; Marburg, Frankfurt, and Belgrade. 49 out of the 99 monkeys had died in this journey. Monkeys were transported for extracting their kidney cells and culturing polio vaccine. There were no reported cases of the Marburg virus until 1976, when a twenty-year-old Australian draftsman and his nineteen-year-old girlfriend went hitchhiking in Zimbabwe. The young man fell ill and was admitted to a hospital in Johannesburg in South Africa. Soon after being admitted to the hospital, one of the nurses fell ill. The young man died, and a few days later, his girlfriend showed symptoms of the virus. Luckily both the nurse and the young woman were treated with an anti-coagulatory agent called heparin and survived (Garrett, 1995). Almost a decade later, two cases of the Marburg virus were reported in Koltsovo, Russia. The two cases were associated with a lab in which| reportedly the Soviet Union was working on the Marburg virus in a biological weapons program during the cold war(Alibek & Handelman, 2000)(Note this has nothing to do with the current COVID-19 pandemic). \n",
    "<br><br>\n",
    "<a href=\"https://upload.wikimedia.org/\">\n",
    "         <img style = \"border-radius: 50%;\" alt=\"koltsovo\" src=\"https://upload.wikimedia.org/wikipedia/commons/f/f4/%D0%91%D0%B8%D0%BE%D1%82%D0%B5%D1%85%D0%BD%D0%BE%D0%BF%D0%B0%D1%80%D0%BA%2C_%D0%9A%D0%BE%D0%BB%D1%8C%D1%86%D0%BE%D0%B2%D0%BE_01.jpg\" width=300\" height=\"300\">\n",
    "      </a>\n",
    "<br><br>\n",
    "Since then, there were sporadic outbreaks of the Marburg virus in the world with more than 90% fatality rate with the two notable outbreaks, one in Angola and the other in Congo, differing in the sense that the outbreak in Angola started with one person contracting a virus and transmitting it to others. In contrast, different variants of the virus were identified in the Congo outbreak (Brauburger et al., 2012). \n",
    "The virus has repeatedly infected people in East Africa, particularly the country of Uganda. However, in August of 2021, a new case has been reported in Guinea, which is located in West Africa (Reuters, 2021). How did this virus get to West Africa? Is this going to be the next pandemic?! What if a variant of this virus becomes airborne?! The answer is we have no idea. \n",
    "<br><br><em><strong>References</strong>: <br><br>\n",
    "    Alibek, K., &amp; Handelman, S. (2000). Biohazard: The chilling true story of the largest covert biological weapons program in the world-told from the inside by the man who ran it. A Delta Book. <br>\n",
    "    Brauburger, K., Hume, A. J., Mühlberger, E., &amp; Olejnik, J. (2012). Forty-Five years of Marburg virus research. Viruses, 4(10), 1878–1927. <br>\n",
    "    Garrett, L. (1995). Coming plague Pt. 1: Newly emerging diseases in a world out of balance. Penguin Publishing Group. (Great book. It's free on Kindle) <br>\n",
    "    Reuters. (2021, August 10). Guinea records West Africa's first Marburg virus death, who says. NBCNews.com. https://www.nbcnews.com/health/health-news/guinea-records-west-africa-s-first-marburg-virus-death-who-n1276454. \n",
    "\n",
    "</em>\n",
    "<br>\n",
    "\n",
    "<h1>Structure of the virus</h1>\n",
    "<br>\n",
    "Marburg virus is a filovirus and in the same family as the Ebola virus. It consists of seven structural proteins. A helical ribonucleocapsid made of a genomic RNA wrapping around a polymer of nucleoproteins is located at its center. An RNA-dependent polymerase, polymerase cofactor, and transcription activator are associated with the ribonucleoprotein. The ribonucleoprotein is located in a matrix consisting of the minor and major matrix proteins. All of these particles are surrounded by a lipid membrane that anchors a glycoprotein.\n",
    "<br><br>\n",
    "\n",
    "<a href=\"http://2.bp.blogspot.com/\">\n",
    "         <img style = \"border-radius: 5%;\" alt=\"koltsovo\" src=\"http://2.bp.blogspot.com/-pyL4iqTKla4/ULzzeP9KyyI/AAAAAAAAOWE/WZO2LZLmNiY/s1600/Filovirus_virion.jpg\" width=500\" height=\"500\">\n",
    "      </a>\n",
    "\n",
    "In this example, we take a look at the nucleotide sequence of the Marburg virus, and compare it to the Ebola virus to see how similar they are in DNA and protein sequence. The fasta files provided in the directory are nucleotide sequences of the Ebola virus and the only complete sequence of the Marburg virus available on NCBI. To download the files yourself or download the sequence of other viruses head over to the <a href=\"https://www.ncbi.nlm.nih.gov/labs/virus/vssi/#/virus?SeqType_s=Nucleotide&VirusLineage_ss=Ebolavirus,%20taxid:186536\">virus section of the NCBI website</a>\n",
    "<br>The sequences we look at in this example are id DQ447653 for the marburg virus and MT583341 for the Ebolavirus downloaded from the NCBI.\n",
    "\n",
    "<br>\n",
    "<em><strong>References:</strong><br>Marburg hemorrhagic fever. Infection Landscapes. (n.d.). http://www.infectionlandscapes.org/2012/12/marburg-hemorrhagic-fever.html. </em>\n"
   ]
  },
  {
   "cell_type": "markdown",
   "id": "9402d5a3",
   "metadata": {},
   "source": [
    "--------------------------------------------------------------------------------------------------"
   ]
  },
  {
   "cell_type": "markdown",
   "id": "3bd45f31",
   "metadata": {},
   "source": [
    "<h2>Section I: On Strings</h2><br>\n",
    "First let's take a look at the Marburg virus and Ebola virus sequences."
   ]
  },
  {
   "cell_type": "code",
   "execution_count": 104,
   "id": "d9f4f310",
   "metadata": {},
   "outputs": [],
   "source": [
    "#Load the file\n",
    "file_name = \"C:/Users/annic/Downloads/marburg-2006-nt.fasta\"\n",
    "with open(file_name, 'r') as file:\n",
    "  #next(file)\n",
    "  seq_marburg = file.read().replace('\\n', '')"
   ]
  },
  {
   "cell_type": "code",
   "execution_count": 105,
   "id": "f9ea0494",
   "metadata": {},
   "outputs": [
    {
     "data": {
      "text/plain": [
       "'>DQ447653.1 |Lake Victoria marburgvirus - Angola2005 strain Ang1379c, complete genomeAGACACACAAAAACAAGAGATGATGATTTTGTGTATCATATAAATAAAGAAGAATATTAACATTGACATTGAGACTTGTCAGTCTGTTAATATTCTTGAAGAGATGGATTTACATAGTTTGTTAGAATTGGGTACAAAACCTACTGCTCCTCATGTTCGTAATAAGAAGGTGATATTATTCGACACAAATCATCAGGTTAGTATCTGTAATCAGATAATAGATGCAATAAACTCAGGGATTGATCTTGGAGATCTTCTAGAAGGGGGTTTGCTGACGTTGTGTGTTGAACACTACTATAATTCCGACAAAGATAA'"
      ]
     },
     "execution_count": 105,
     "metadata": {},
     "output_type": "execute_result"
    }
   ],
   "source": [
    "#Let's take a look at what is inside the file\n",
    "seq_marburg[0:400]\n"
   ]
  },
  {
   "cell_type": "code",
   "execution_count": 106,
   "id": "2e5cd3b7",
   "metadata": {
    "scrolled": true
   },
   "outputs": [
    {
     "data": {
      "text/plain": [
       "'AGACACACAAAAACAAGAGATGATGATTTTGTGTATCATATAAATAAAGAAGAATATTAACATTGACATTGAGACTTGTCAGTCTGTTAATATTCTTGAAGAGATGGATTTACATAGTTTGTTAGAATTGGGTACAAAACCTACTGCTCCTCATGTTCGTAATAAGAAGGTGATATTATTCGACACAAATCATCAGGTTAGTATCTGTAATCAGATAATAGATGCAATAAACTCAGGGATTGATCTTGGAGATCTTCTAGAAGGGGGTTTGCTGACGTTGTGTGTTGAACACTACTATAATTCCGACAAAGATAAATTCAACACAAGTCCTATCGCAAAATACTTGCGTGATGCGGGTTATGAATTTGATGTCATCAAGAATGCAGATGCAACCCGCTTT'"
      ]
     },
     "execution_count": 106,
     "metadata": {},
     "output_type": "execute_result"
    }
   ],
   "source": [
    "#Step1 : get rid of the information coming before the sequence\n",
    "#Solution: The sequence comes after the 'genome' word, therefore we can find the index of 'genome'\n",
    "#and extract what comes after it.\n",
    "e_index = seq_marburg.index(\"genome\") + len(\"genome\")\n",
    "seq_marburg = seq_marburg[e_index:]\n",
    "seq_marburg[0:400]"
   ]
  },
  {
   "cell_type": "markdown",
   "id": "5c83a857",
   "metadata": {},
   "source": [
    "# Compositional Biases in Viruses"
   ]
  },
  {
   "cell_type": "code",
   "execution_count": 107,
   "id": "6392f368",
   "metadata": {
    "scrolled": false
   },
   "outputs": [
    {
     "name": "stdout",
     "output_type": "stream",
     "text": [
      "sequence composition of the marburg virus is as follows: \n",
      "A:32.25975386226761%\n",
      "C:19.711966483372613%\n",
      "G:18.690756742602776%\n",
      "T:29.337522911757002%\n"
     ]
    }
   ],
   "source": [
    "#Step 2: Let's look at the nucleotide composition of the sequence\n",
    "#Find the ATG codon\n",
    "start_index = seq_marburg.index(\"ATG\")\n",
    "#Retrieve the sequence coming after it\n",
    "seq_marburg = seq_marburg[start_index:]\n",
    "#calculate percentages\n",
    "perc_A = seq_marburg.count(\"A\")/len(seq_marburg)*100\n",
    "perc_T = seq_marburg.count(\"T\")/len(seq_marburg)*100\n",
    "perc_C = seq_marburg.count(\"C\")/len(seq_marburg)*100\n",
    "perc_G = seq_marburg.count(\"G\")/len(seq_marburg)*100\n",
    "\n",
    "print(f\"sequence composition of the marburg virus is as follows: \\nA:{perc_A}%\\nC:{perc_C}%\\nG:{perc_G}%\\nT:{perc_T}%\")"
   ]
  },
  {
   "cell_type": "markdown",
   "id": "875f06f9",
   "metadata": {},
   "source": [
    "The vast majority of viruses have a bias towards A nucleotides and have lower number of C nucleotides. A is a weak RNA binder thus more A nucleotides result in less secondary RNA structure which assist viruses in dodging the host's defense mechanism and there is translational selection towards certain codons which casues this bias in the sequence. This is typically a selection towards amino acids with A nucleotides (Kustin & Stern, 2020).\n",
    "\n",
    "<em><strong>Reference:</strong><br>Kustin, T., &amp; Stern, A. (2020). Biased mutation and selection in RNA VIRUSES. Molecular Biology and Evolution, 38(2), 575–588. https://doi.org/10.1093/molbev/msaa247 </em>"
   ]
  },
  {
   "cell_type": "markdown",
   "id": "5273b37c",
   "metadata": {},
   "source": [
    "# PAUSE\n",
    "<br>\n",
    "Follow the same steps with the ebola virus <br>\n",
    "step 1: Open the file containing the ebola sequence <br>\n",
    "step 2: Remove the information given before the sequence <br>\n",
    "step 3: Find the Start Codon. Separate what comes after it and determine the nucleotide composition of the sequence\n",
    "<br><br>"
   ]
  },
  {
   "cell_type": "code",
   "execution_count": 108,
   "id": "dec37414",
   "metadata": {},
   "outputs": [],
   "source": [
    "#Fill Here\n",
    "#Load the file\n",
    "file_name = \"C:/Users/annic/Downloads/ebola-1995-nt.fasta\"\n",
    "with open(file_name, 'r') as file:\n",
    "  seq_ebola = file.read().replace('\\n', '')\n",
    "#\n",
    "#\n",
    "#\n",
    "#"
   ]
  },
  {
   "cell_type": "markdown",
   "id": "55ba8748",
   "metadata": {},
   "source": [
    "# Solution"
   ]
  },
  {
   "cell_type": "code",
   "execution_count": 109,
   "id": "65d18260",
   "metadata": {},
   "outputs": [
    {
     "name": "stdout",
     "output_type": "stream",
     "text": [
      "sequence composition of the ebola virus is as follows: \n",
      "A:31.91342999259181%\n",
      "C:21.383215155042862%\n",
      "G:19.748121494338026%\n",
      "T:26.955233358027304%\n"
     ]
    }
   ],
   "source": [
    "#Load the file\n",
    "\n",
    "\n",
    "file_name = \"C:/Users/annic/Downloads/ebola-1995-nt.fasta\"\n",
    "with open(file_name, 'r') as file:\n",
    "  seq_ebola = file.read().replace('\\n', '')\n",
    "    \n",
    "e_index = seq_ebola.index(\"genome\") + len(\"genome\")\n",
    "seq_ebola = seq_ebola[e_index:]\n",
    "\n",
    "#Find the ATG codon\n",
    "start_index = seq_ebola.index(\"ATG\")\n",
    "#Retrieve the sequence coming after it\n",
    "seq_ebola = seq_ebola[start_index:]\n",
    "\n",
    "perc_A = seq_ebola.count(\"A\")/len(seq_ebola)*100\n",
    "perc_T = seq_ebola.count(\"T\")/len(seq_ebola)*100\n",
    "perc_C = seq_ebola.count(\"C\")/len(seq_ebola)*100\n",
    "perc_G = seq_ebola.count(\"G\")/len(seq_ebola)*100\n",
    "\n",
    "print(f\"sequence composition of the ebola virus is as follows: \\nA:{perc_A}%\\nC:{perc_C}%\\nG:{perc_G}%\\nT:{perc_T}%\")  \n",
    "    "
   ]
  },
  {
   "cell_type": "markdown",
   "id": "1ebb873c",
   "metadata": {},
   "source": [
    "--------------------------------------------------------------------------------------------------\n",
    "<h2>Section II: For Loops Example</h2><br>"
   ]
  },
  {
   "cell_type": "markdown",
   "id": "f9a028c5",
   "metadata": {},
   "source": [
    "<h2>Needleman Wunsch Alignment</h2>\n",
    "<p>Read <a href=\"https://en.wikipedia.org/wiki/Needleman%E2%80%93Wunsch_algorithm\">this wikipedia page</a> about the Needleman-Wunsch algorithm. The Needleman Wunsch algorithm finds the best global alignment of the two sequences (The one that gives the most match between nucleotides.)\n",
    "<a href=\"https://upload.wikimedia.org/\"> <img style = \"border-radius: 5%;\" alt=\"koltsovo\" src=\"https://upload.wikimedia.org/wikipedia/commons/3/3f/Needleman-Wunsch_pairwise_sequence_alignment.png\" width=500\" height=\"500\"></a>       \n",
    "</p>\n",
    "These are the steps you have to take to align two sequences using the Needleman Wunsch algorithm. \n",
    "<ul>\n",
    "    <li><strong>I. </strong> Write one of the sequences horizontally then write the other sequence vertically and create a table.</li>\n",
    "    <li><strong>II. </strong> Starting from top to bottom and left to right, write 0 in the first cell and subtract 1 from the previous cell (either the one on top for the first column cells or one on the left for the first row) for every subsequent cell.</li>\n",
    "    <li><strong>III. </strong> From the top left corner moving to the bottom right cell, we either move vertically or horizontally and subtract 1(Gap) or move diagonally and based on whether we reach a match or mismatch add or subtract 1.</li>\n",
    "    <li><strong>IV (Trace Back). </strong> Starting from the bottom right, we move towards the top left such that the sum of the scores of the cells that we touch are maximized.</li>\n",
    "</ul>"
   ]
  },
  {
   "cell_type": "markdown",
   "id": "26a538f5",
   "metadata": {},
   "source": [
    "# PAUSE"
   ]
  },
  {
   "cell_type": "code",
   "execution_count": 80,
   "id": "81beeb1d",
   "metadata": {},
   "outputs": [],
   "source": [
    "# PAUSE: Try to write the Needleman-Wunsch algorithm yourself below\n",
    "#test with GCATGCTT and GATTACAA, the answer should be -1.\n",
    "#\n",
    "#\n",
    "#\n",
    "#"
   ]
  },
  {
   "cell_type": "markdown",
   "id": "3a85cd4c",
   "metadata": {},
   "source": [
    "# Solution"
   ]
  },
  {
   "cell_type": "code",
   "execution_count": 8,
   "id": "675aff82",
   "metadata": {},
   "outputs": [],
   "source": [
    "#step 1:\n",
    "seq_1 = \"GCATGCTT\"\n",
    "seq_2 = \"GATTACAA\"\n",
    "\n",
    "#initialize a matrix with number of columns matching the first sequence and the number of rows matching the second sequence.\n",
    "ROWS = len(seq_1) + 1\n",
    "COLS = len(seq_2) + 1\n",
    "\n",
    "#initialize the matrix and put zeroes in all cells of the matrix\n",
    "nw_matrix = [[0 for i in range(COLS)] for j in range(ROWS)] "
   ]
  },
  {
   "cell_type": "code",
   "execution_count": 9,
   "id": "8b873ee7",
   "metadata": {},
   "outputs": [
    {
     "data": {
      "text/plain": [
       "[[0, 0, 0, 0, 0, 0, 0, 0, 0],\n",
       " [0, 0, 0, 0, 0, 0, 0, 0, 0],\n",
       " [0, 0, 0, 0, 0, 0, 0, 0, 0],\n",
       " [0, 0, 0, 0, 0, 0, 0, 0, 0],\n",
       " [0, 0, 0, 0, 0, 0, 0, 0, 0],\n",
       " [0, 0, 0, 0, 0, 0, 0, 0, 0],\n",
       " [0, 0, 0, 0, 0, 0, 0, 0, 0],\n",
       " [0, 0, 0, 0, 0, 0, 0, 0, 0],\n",
       " [0, 0, 0, 0, 0, 0, 0, 0, 0]]"
      ]
     },
     "execution_count": 9,
     "metadata": {},
     "output_type": "execute_result"
    }
   ],
   "source": [
    "nw_matrix"
   ]
  },
  {
   "cell_type": "code",
   "execution_count": 10,
   "id": "4ffdcf6d",
   "metadata": {},
   "outputs": [],
   "source": [
    "#step 2:\n",
    "#put values in the first column and the first row\n",
    "for i in range(0, ROWS):\n",
    "    nw_matrix[i][0] = i*-1\n",
    "for j in range(0, COLS):\n",
    "    nw_matrix[0][j] = j*-1 "
   ]
  },
  {
   "cell_type": "code",
   "execution_count": 11,
   "id": "222562d0",
   "metadata": {},
   "outputs": [],
   "source": [
    "#put values in the rest of the cells\n",
    "\n",
    "for i in range(1, ROWS):\n",
    "    \n",
    "    for j in range(1, COLS):\n",
    "        #initialize the score in case it is a mismatch then it is -1\n",
    "        score = -1\n",
    "        \n",
    "        #otherwise it is a match and set it to 1\n",
    "        if seq_1[i-1] == seq_2[j-1]:\n",
    "            score =1\n",
    "        \n",
    "        #check whether we should insert a gap or have a match or mismatch\n",
    "        nw_matrix[i][j] = max(nw_matrix[i-1][j] - 1, max(nw_matrix[i][j-1] -1, nw_matrix[i-1][j-1] + score))"
   ]
  },
  {
   "cell_type": "code",
   "execution_count": 12,
   "id": "e5b5db7d",
   "metadata": {
    "scrolled": true
   },
   "outputs": [
    {
     "name": "stdout",
     "output_type": "stream",
     "text": [
      "0  -1  -2  -3  -4  -5  -6  -7  -8  \n",
      "\n",
      "-1  1  0  -1  -2  -3  -4  -5  -6  \n",
      "\n",
      "-2  0  0  -1  -2  -3  -2  -3  -4  \n",
      "\n",
      "-3  -1  1  0  -1  -1  -2  -1  -2  \n",
      "\n",
      "-4  -2  0  2  1  0  -1  -2  -2  \n",
      "\n",
      "-5  -3  -1  1  1  0  -1  -2  -3  \n",
      "\n",
      "-6  -4  -2  0  0  0  1  0  -1  \n",
      "\n",
      "-7  -5  -3  -1  1  0  0  0  -1  \n",
      "\n",
      "-8  -6  -4  -2  0  0  -1  -1  -1  \n",
      "\n"
     ]
    }
   ],
   "source": [
    "#print the matrix\n",
    "for i in range(0, ROWS):\n",
    "    for j in range(0, COLS):\n",
    "        print(nw_matrix[i][j], end=\"  \")\n",
    "    print(\"\\n\")"
   ]
  },
  {
   "cell_type": "code",
   "execution_count": 13,
   "id": "323a9c0b",
   "metadata": {},
   "outputs": [],
   "source": [
    "# TRACE BACK\n",
    "\n",
    "nw_trace1 = seq_1\n",
    "nw_trace2 = seq_2\n",
    "\n",
    "nw_score = 0\n",
    "\n",
    "nw_i = len(seq_1) + 1\n",
    "nw_j = len(seq_2  + 1)\n",
    "\n",
    "#move from the bottom right to the top left. There are three possible scenarios\n",
    "while nw_i>0 and nw_j>0:\n",
    "    #move horizontally\n",
    "    if nw_matrix[nw_i][nw_j] == ((nw_matrix[nw_i - 1][nw_j]) - 1):\n",
    "        nw_i = nw_i - 1\n",
    "        nw_score -= 1\n",
    "        nw_trace2 = nw_trace2[:nw_i] + \"-\" + nw_trace2[nw_i:] \n",
    "    #move vertically\n",
    "    elif nw_matrix[nw_i][nw_j] == (nw_matrix[nw_i][nw_j - 1] - 1):\n",
    "        nw_j = nw_j - 1\n",
    "        nw_score -= 1\n",
    "        nw_trace1 = nw_trace1[:nw_j] + \"-\" + nw_trace1[nw_j:] \n",
    "    #move diagonally\n",
    "    else:\n",
    "        \n",
    "        if seq_1[nw_i - 1] == seq_2[nw_j - 1]:\n",
    "            nw_score += 1\n",
    "        else:\n",
    "            nw_score -= 1\n",
    "        nw_i = nw_i - 1\n",
    "        nw_j = nw_j - 1"
   ]
  },
  {
   "cell_type": "code",
   "execution_count": 14,
   "id": "6eaafe56",
   "metadata": {},
   "outputs": [
    {
     "name": "stdout",
     "output_type": "stream",
     "text": [
      "The NW alignment score is -1 and the alignment is \n",
      "GCAT-GCTT\n",
      "G-ATTACAA\n"
     ]
    }
   ],
   "source": [
    "print(f\"The NW alignment score is {nw_score} and the alignment is \\n{nw_trace1}\\n{nw_trace2}\")"
   ]
  },
  {
   "cell_type": "markdown",
   "id": "192d5a4a",
   "metadata": {},
   "source": [
    "# Global Pairwise Alignment of Ebola and Marburg Nucleotides"
   ]
  },
  {
   "cell_type": "markdown",
   "id": "552ef756",
   "metadata": {},
   "source": [
    "Note this takes a long time and takes a lots of memory to run. Therefore I would not recommend doing this all the time. You can easily head over to <a href=\"https://www.ebi.ac.uk/Tools/psa/emboss_needle/\">Ebi</a> and upload the sequences there."
   ]
  },
  {
   "cell_type": "code",
   "execution_count": 17,
   "id": "8d1a460a",
   "metadata": {},
   "outputs": [],
   "source": [
    "#step 1:\n",
    "seq_1 = seq_marburg\n",
    "seq_2 = seq_ebola\n",
    "ROWS = len(seq_1) + 1\n",
    "COLS = len(seq_2) + 1\n",
    "\n",
    "nw_matrix = [[0 for i in range(COLS)] for j in range(ROWS)] \n",
    "#step 2:\n",
    "for i in range(0, ROWS):\n",
    "    nw_matrix[i][0] = i*-1\n",
    "for j in range(0, COLS):\n",
    "    nw_matrix[0][j] = j*-1 \n",
    "for i in range(1, ROWS):\n",
    "    for j in range(1, COLS):\n",
    "        score = -1\n",
    "        \n",
    "        if seq_1[i-1] == seq_2[j-1]:\n",
    "            score =1\n",
    "            \n",
    "        nw_matrix[i][j] = max(nw_matrix[i-1][j] - 1, max(nw_matrix[i][j-1] -1, nw_matrix[i-1][j-1] + score))\n",
    "        \n",
    "nw_trace1 = seq_1\n",
    "nw_trace2 = seq_2\n",
    "\n",
    "nw_score = 0\n",
    "\n",
    "nw_i = len(seq_1)\n",
    "nw_j = len(seq_2)\n",
    "\n",
    "similarity = 0\n",
    "\n",
    "while nw_i>0 and nw_j>0:\n",
    "    if nw_matrix[nw_i][nw_j] == ((nw_matrix[nw_i - 1][nw_j]) - 1):\n",
    "        nw_i = nw_i - 1\n",
    "        nw_score -= 1\n",
    "        nw_trace2 = nw_trace2[:nw_i] + \"-\" + nw_trace2[nw_i:] \n",
    "    elif nw_matrix[nw_i][nw_j] == (nw_matrix[nw_i][nw_j - 1] - 1):\n",
    "        nw_j = nw_j - 1\n",
    "        nw_score -= 1\n",
    "        nw_trace1 = nw_trace1[:nw_j] + \"-\" + nw_trace1[nw_j:] \n",
    "    else:\n",
    "        \n",
    "        if seq_1[nw_i - 1] == seq_2[nw_j - 1]:\n",
    "            nw_score += 1\n",
    "            similarity += 1\n",
    "        else:\n",
    "            nw_score -= 1\n",
    "        nw_i = nw_i - 1\n",
    "        nw_j = nw_j - 1"
   ]
  },
  {
   "cell_type": "code",
   "execution_count": 38,
   "id": "2f33a19d",
   "metadata": {},
   "outputs": [
    {
     "name": "stdout",
     "output_type": "stream",
     "text": [
      "The Needleman Wunsch algorithm gave a score of 3501 with a gap penalty of 1 and 58.02061855670103 % of nucleotides were identical between the two sequences.\n"
     ]
    }
   ],
   "source": [
    "print(f\"The Needleman Wunsch algorithm gave a score of {nw_score} with a gap penalty of 1 and {similarity/len(nw_trace1)*100} % of nucleotides were identical between the two sequences.\")"
   ]
  },
  {
   "cell_type": "markdown",
   "id": "1281c470",
   "metadata": {},
   "source": [
    "Note: If you run the same sequences on Ebi, you get a 48.7% similarity score and different number of gaps. The reason is Ebi uses a different gap and extend penalty. let us check how many gaps we introduced below. I have included the results of Ebi in the same directory as this notebook."
   ]
  },
  {
   "cell_type": "code",
   "execution_count": 43,
   "id": "3b117891",
   "metadata": {
    "scrolled": true
   },
   "outputs": [
    {
     "name": "stdout",
     "output_type": "stream",
     "text": [
      "The total number of gaps introduced were 5657\n"
     ]
    }
   ],
   "source": [
    "total_gaps = nw_trace1.count(\"-\") + nw_trace2.count(\"-\")\n",
    "print(f\"The total number of gaps introduced were {total_gaps}\")"
   ]
  },
  {
   "cell_type": "markdown",
   "id": "506bfb76",
   "metadata": {},
   "source": [
    "<h3>Compare</h3>\n",
    "<br>\n",
    "head over to Ebi and upload the influenza nucleotide sequence along with the marburg nucleotide sequence and compare the similarity to what Ebi found for marburg and ebola. \n",
    "<h3>Spoiler Alert:</h3><br>\n",
    "You will see that they are only 3.4% similar compared to 48.7% similarity between ebola and marburg!"
   ]
  },
  {
   "cell_type": "markdown",
   "id": "5fff1680",
   "metadata": {},
   "source": [
    "<h2> Smith-Waterman Alignment </h2>"
   ]
  },
  {
   "cell_type": "markdown",
   "id": "839dc086",
   "metadata": {},
   "source": [
    "What if we wanted to compare different segments of the two sequences instead of looking at the entire length of the two?! In the end we are trying to see what protein domains are similar.\n",
    "Smith Waterman alignment is very similar to Needleman Wunsch except that all negative cells are set to zero.\n",
    "<a href=\"https://upload.wikimedia.org/\"> <img style = \"border-radius: 5%;\" alt=\"smith\" src=\"https://upload.wikimedia.org/wikipedia/commons/9/92/Smith-Waterman-Algorithm-Example-En.gif\" width=\"500\" height=\"500\"></a>   "
   ]
  },
  {
   "cell_type": "markdown",
   "id": "88c80627",
   "metadata": {},
   "source": [
    "# PAUSE\n",
    "Now that you have written the Needleman Wunsch algorithm, it should be fairly simple for you to write the Smith Waterman algorithm. STOP and write it below."
   ]
  },
  {
   "cell_type": "code",
   "execution_count": 78,
   "id": "89946281",
   "metadata": {},
   "outputs": [],
   "source": [
    "#\n",
    "#\n",
    "#\n",
    "#\n",
    "#\n",
    "#\n",
    "#\n",
    "#"
   ]
  },
  {
   "cell_type": "markdown",
   "id": "dbb82585",
   "metadata": {},
   "source": [
    "# Solution"
   ]
  },
  {
   "cell_type": "code",
   "execution_count": 87,
   "id": "e2cae4c0",
   "metadata": {},
   "outputs": [
    {
     "name": "stdout",
     "output_type": "stream",
     "text": [
      "0  0  0  0  0  0  0  0  0  \n",
      "\n",
      "0  0  3  1  0  0  0  3  3  \n",
      "\n",
      "0  0  3  1  0  0  0  3  6  \n",
      "\n",
      "0  3  1  6  4  2  0  1  4  \n",
      "\n",
      "0  3  1  4  9  7  5  3  2  \n",
      "\n",
      "0  1  6  4  7  6  4  8  6  \n",
      "\n",
      "0  0  4  3  5  10  8  6  5  \n",
      "\n",
      "0  0  2  1  3  8  13  11  9  \n",
      "\n",
      "0  3  1  5  4  6  11  10  8  \n",
      "\n",
      "0  1  0  3  2  7  9  8  7  \n",
      "\n"
     ]
    }
   ],
   "source": [
    "#step 1:\n",
    "seq_1 = \"GGTTGACTA\"\n",
    "seq_2 = \"TGTTACGG\"\n",
    "ROWS = len(seq_1) + 1\n",
    "COLS = len(seq_2) + 1\n",
    "\n",
    "sw_matrix = [[0 for i in range(COLS)] for j in range(ROWS)] \n",
    "#step 2:\n",
    "for i in range(0, ROWS):\n",
    "    sw_matrix[i][0] = 0\n",
    "for j in range(0, COLS):\n",
    "    sw_matrix[0][j] = 0 \n",
    "    \n",
    "#step 3:    \n",
    "for i in range(1, ROWS):\n",
    "    for j in range(1, COLS):\n",
    "        score = -3\n",
    "        \n",
    "        if seq_1[i-1] == seq_2[j-1]:\n",
    "            score =3\n",
    "            \n",
    "        sw_matrix[i][j] = max(0, max(sw_matrix[i-1][j] - 2, max(sw_matrix[i][j-1] -2, (sw_matrix[i-1][j-1] + score))))\n",
    "        \n",
    "#print the matrix\n",
    "for i in range(0, ROWS):\n",
    "    for j in range(0, COLS):\n",
    "        print(sw_matrix[i][j], end=\"  \")\n",
    "    print(\"\\n\")\n",
    "    \n",
    "sw_score = 0\n",
    "sw_i =0\n",
    "sw_j=0\n",
    "for i in range(0, ROWS):\n",
    "    for j in range(0, COLS):\n",
    "        if sw_score < sw_matrix[i][j]:\n",
    "            sw_score = sw_matrix[i][j]\n",
    "            sw_i = i\n",
    "            sw_j = j\n",
    "            \n",
    "        \n",
    "sw_trace1 = seq_1\n",
    "sw_trace2 = seq_2\n",
    "\n",
    "for i in range(0, len(sw_trace1)):\n",
    "    sw_trace1 = sw_trace1[:i] + \"-\" + sw_trace1[(i+1):]\n",
    "\n",
    "for j in range(0, len(sw_trace2)):\n",
    "    sw_trace2 = sw_trace2[:j] + \"-\" + sw_trace2[(j+1):]\n",
    "\n",
    "\n",
    "\n",
    "\n",
    "while sw_matrix[sw_i][sw_j]>0:\n",
    "    if sw_matrix[sw_i][sw_j] == ((sw_matrix[sw_i - 1][sw_j]) - 2):\n",
    "        sw_trace1 = sw_trace1[:(sw_i-1)] + seq_1[sw_i-1] + sw_trace1[sw_i:]\n",
    "        sw_i-=1\n",
    "      \n",
    "    elif sw_matrix[sw_i][sw_j] == (sw_matrix[sw_i][sw_j - 1] - 2):\n",
    "        sw_trace2 = sw_trace2[:(sw_j-1)] + seq_2[sw_j-1] + sw_trace2[sw_j:] \n",
    "        sw_j = sw_j - 1\n",
    "    else:\n",
    "        sw_trace1 = sw_trace1[:(sw_i-1)] + seq_1[sw_i-1] + sw_trace1[(sw_i):]\n",
    "        sw_trace2 = sw_trace2[:(sw_j-1)] + seq_2[sw_j-1] + sw_trace2[(sw_j):]\n",
    "        sw_i = sw_i - 1\n",
    "        sw_j = sw_j - 1"
   ]
  },
  {
   "cell_type": "code",
   "execution_count": 94,
   "id": "5d7e1832",
   "metadata": {
    "scrolled": true
   },
   "outputs": [
    {
     "name": "stdout",
     "output_type": "stream",
     "text": [
      "The Smith-Waterman alignment score with match score:3, mismatch:-3 and gap penalty:2 is 13\n"
     ]
    }
   ],
   "source": [
    "print(f\"The Smith-Waterman alignment score with match score:3, mismatch:-3 and gap penalty:2 is {sw_score}\")"
   ]
  },
  {
   "cell_type": "markdown",
   "id": "c1f1044d",
   "metadata": {},
   "source": [
    "You can run the above program with the Marburg and ebola virus nucleotide sequence but I would suggest heading over to <a href=\"https://www.ebi.ac.uk/Tools/psa/emboss_water/\">Ebi</a> and submitting the two sequences there."
   ]
  },
  {
   "cell_type": "markdown",
   "id": "cdc242e2",
   "metadata": {},
   "source": [
    "--------------------------------------------------------------------------------------------------\n",
    "<h2>Section III: Dictionaries and Functions Example</h2><br>"
   ]
  },
  {
   "cell_type": "markdown",
   "id": "8cdc8d23",
   "metadata": {},
   "source": [
    "'c', 'a' and 'r' are put together and have a meaning for us 'car'. If we put a couple of words together they from sentences and we can use them to communicate with each other. For example 'I' 'a' 'm' 'a' 's' 't' 'u' 'd' 'e' 'n' 't' makes up 'I am a student' and can be used to give information another combination of words can be used to ask a question. The same goes with the DNA. The nucleotides 'A', 'C', 'T' and 'G' make an amino acid when three of them are put together and a couple of these amino acids make up a protein that can perform a function. So let us put the nucleotides in the Marburg sequence together and see what amino acids they make. "
   ]
  },
  {
   "cell_type": "code",
   "execution_count": 122,
   "id": "4054d5c3",
   "metadata": {},
   "outputs": [],
   "source": [
    "#The fucntion below is taken from https://www.geeksforgeeks.org/dna-protein-python-3/ and modified\n",
    "'''\n",
    "function name: translate\n",
    "input: DNA sequence\n",
    "returns: corresponding amino acids\n",
    "'''\n",
    "def translate(seq):\n",
    "       \n",
    "    table = {\n",
    "        'ATA':'I', 'ATC':'I', 'ATT':'I', 'ATG':'M',\n",
    "        'ACA':'T', 'ACC':'T', 'ACG':'T', 'ACT':'T',\n",
    "        'AAC':'N', 'AAT':'N', 'AAA':'K', 'AAG':'K',\n",
    "        'AGC':'S', 'AGT':'S', 'AGA':'R', 'AGG':'R',                 \n",
    "        'CTA':'L', 'CTC':'L', 'CTG':'L', 'CTT':'L',\n",
    "        'CCA':'P', 'CCC':'P', 'CCG':'P', 'CCT':'P',\n",
    "        'CAC':'H', 'CAT':'H', 'CAA':'Q', 'CAG':'Q',\n",
    "        'CGA':'R', 'CGC':'R', 'CGG':'R', 'CGT':'R',\n",
    "        'GTA':'V', 'GTC':'V', 'GTG':'V', 'GTT':'V',\n",
    "        'GCA':'A', 'GCC':'A', 'GCG':'A', 'GCT':'A',\n",
    "        'GAC':'D', 'GAT':'D', 'GAA':'E', 'GAG':'E',\n",
    "        'GGA':'G', 'GGC':'G', 'GGG':'G', 'GGT':'G',\n",
    "        'TCA':'S', 'TCC':'S', 'TCG':'S', 'TCT':'S',\n",
    "        'TTC':'F', 'TTT':'F', 'TTA':'L', 'TTG':'L',\n",
    "        'TAC':'Y', 'TAT':'Y', 'TAA':'_', 'TAG':'_',\n",
    "        'TGC':'C', 'TGT':'C', 'TGA':'_', 'TGG':'W',\n",
    "    }\n",
    "    protein =\"\"\n",
    "    if len(seq)%3 == 0:\n",
    "        k=0\n",
    "    elif len(seq)%3 ==1:\n",
    "        k=1\n",
    "    else:\n",
    "        k=2\n",
    "    for i in range(0, len(seq)-k, 3):\n",
    "        codon = seq[i:i + 3]\n",
    "        protein+= table[codon]\n",
    "    return protein\n"
   ]
  },
  {
   "cell_type": "code",
   "execution_count": 123,
   "id": "a026e2d0",
   "metadata": {},
   "outputs": [],
   "source": [
    "#let's translate the two sequences into proteins\n",
    "marburg_prot = translate(seq_marburg)\n",
    "ebola_prot = translate(seq_ebola[0:(len(seq_ebola)-1)])"
   ]
  },
  {
   "cell_type": "markdown",
   "id": "91564cc3",
   "metadata": {},
   "source": [
    "# Exercise:\n",
    "Plug the marburg_prot and ebola_prot variables in both of the algorithms written above and compare the results of global and local pairwise sequence alignment."
   ]
  },
  {
   "cell_type": "markdown",
   "id": "8d11bb7a",
   "metadata": {},
   "source": [
    "Fall 2021, Texas A&M University "
   ]
  }
 ],
 "metadata": {
  "kernelspec": {
   "display_name": "Python 3",
   "language": "python",
   "name": "python3"
  },
  "language_info": {
   "codemirror_mode": {
    "name": "ipython",
    "version": 3
   },
   "file_extension": ".py",
   "mimetype": "text/x-python",
   "name": "python",
   "nbconvert_exporter": "python",
   "pygments_lexer": "ipython3",
   "version": "3.8.8"
  }
 },
 "nbformat": 4,
 "nbformat_minor": 5
}
